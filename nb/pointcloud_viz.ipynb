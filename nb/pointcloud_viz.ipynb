{
 "cells": [
  {
   "cell_type": "code",
   "execution_count": 1,
   "metadata": {},
   "outputs": [
    {
     "name": "stderr",
     "output_type": "stream",
     "text": [
      "Using TensorFlow backend.\n"
     ]
    }
   ],
   "source": [
    "import numpy as np\n",
    "import os\n",
    "import h5py\n",
    "from keras.utils import np_utils\n",
    "import matplotlib.pyplot as plt\n",
    "%matplotlib inline"
   ]
  },
  {
   "cell_type": "code",
   "execution_count": 2,
   "metadata": {},
   "outputs": [],
   "source": [
    "def load_h5(h5_filename):\n",
    "    f = h5py.File(h5_filename)\n",
    "    data = f['data'][:]\n",
    "    label = f['label'][:]\n",
    "    return (data, label)\n",
    "\n",
    "num_points = 2048\n",
    "k = 40"
   ]
  },
  {
   "cell_type": "code",
   "execution_count": 8,
   "metadata": {},
   "outputs": [
    {
     "name": "stdout",
     "output_type": "stream",
     "text": [
      "../data\\train\n",
      "['.gitignore', 'ply_data_train0.h5', 'ply_data_train1.h5', 'ply_data_train2.h5', 'ply_data_train3.h5', 'ply_data_train4.h5']\n",
      "../data\\test\n",
      "['.gitignore', 'ply_data_test0.h5', 'ply_data_test1.h5']\n"
     ]
    }
   ],
   "source": [
    "path = os.path.dirname(\"../data/\")\n",
    "train_path = os.path.join(path, \"train\")\n",
    "filenames = [d for d in os.listdir(train_path)]\n",
    "print(train_path)\n",
    "print(filenames)\n",
    "train_points = None\n",
    "train_labels = None\n",
    "for d in filenames:\n",
    "    if not d.endswith(\".h5\"): continue\n",
    "    cur_points, cur_labels = load_h5(os.path.join(train_path, d))\n",
    "    cur_points = cur_points.reshape(1, -1, 3)\n",
    "    cur_labels = cur_labels.reshape(1, -1)\n",
    "    if train_labels is None or train_points is None:\n",
    "        train_labels = cur_labels\n",
    "        train_points = cur_points\n",
    "    else:\n",
    "        train_labels = np.hstack((train_labels, cur_labels))\n",
    "        train_points = np.hstack((train_points, cur_points))\n",
    "train_points_r = train_points.reshape(-1, num_points, 3)\n",
    "train_labels_r = train_labels.reshape(-1, 1)\n",
    "\n",
    "# load test points and labels\n",
    "test_path = os.path.join(path, \"test\")\n",
    "filenames = [d for d in os.listdir(test_path)]\n",
    "print(test_path)\n",
    "print(filenames)\n",
    "test_points = None\n",
    "test_labels = None\n",
    "for d in filenames:\n",
    "    if not d.endswith(\".h5\"): continue\n",
    "    cur_points, cur_labels = load_h5(os.path.join(test_path, d))\n",
    "    cur_points = cur_points.reshape(1, -1, 3)\n",
    "    cur_labels = cur_labels.reshape(1, -1)\n",
    "    if test_labels is None or test_points is None:\n",
    "        test_labels = cur_labels\n",
    "        test_points = cur_points\n",
    "    else:\n",
    "        test_labels = np.hstack((test_labels, cur_labels))\n",
    "        test_points = np.hstack((test_points, cur_points))\n",
    "test_points_r = test_points.reshape(-1, num_points, 3)\n",
    "test_labels_r = test_labels.reshape(-1, 1)\n",
    "\n",
    "Y_train = np_utils.to_categorical(train_labels_r, k)\n",
    "Y_test = np_utils.to_categorical(test_labels_r, k)"
   ]
  },
  {
   "cell_type": "code",
   "execution_count": 11,
   "metadata": {},
   "outputs": [],
   "source": [
    "def plane_xequal1(point):\n",
    "    return (point[1], point[2], 1 - point[0])\n",
    "def plane_yequal1(point):\n",
    "    return (point[0], point[2], 1 - point[1])\n",
    "def plane_zequal1(point):\n",
    "    return (point[0], point[1], 1 - point[2])\n",
    "def plane_xequal_neg1(point):\n",
    "    return (point[1], point[2], abs(-1 - point[0]))\n",
    "def plane_yequal_neg1(point):\n",
    "    return (point[0], point[2], abs(-1 - point[1]))\n",
    "def plane_zequal_neg1(point):\n",
    "    return (point[0], point[1], abs(-1 - point[2]))\n",
    "\n",
    "planes = [plane_xequal1, plane_yequal1, plane_zequal1, plane_xequal_neg1, plane_yequal_neg1, plane_zequal_neg1]"
   ]
  },
  {
   "cell_type": "code",
   "execution_count": 12,
   "metadata": {},
   "outputs": [],
   "source": [
    "def rasterize(point_cloud, img_width, img_height, planes):\n",
    "    channels = len(planes)\n",
    "    projections = []\n",
    "    for plane in planes:\n",
    "        projection = [plane(point) for point in point_cloud]\n",
    "        projections.append(projection)\n",
    "    projections = np.array(projections)\n",
    "    projections[:,:,0:2] = (projections[:,:,0:2] * (img_width/2) + (img_width/2)).astype(np.int16)\n",
    "    projections[:,:,2] = projections[:,:,2]/2\n",
    "    \n",
    "    img = np.zeros((channels, img_width, img_height))\n",
    "    for i in range(channels):\n",
    "        projection = projections[i]\n",
    "        rev_intensity = projection[projection[:,2].argsort()]\n",
    "        rev_intensity = rev_intensity[::-1]\n",
    "        for point in rev_intensity:\n",
    "            img[i][int(point[0])][int(point[1])] = 1 - point[2]\n",
    "    return img"
   ]
  },
  {
   "cell_type": "code",
   "execution_count": 34,
   "metadata": {},
   "outputs": [
    {
     "data": {
      "image/png": "[encoded data removed]",
      "text/plain": [
       "<Figure size 720x720 with 6 Axes>"
      ]
     },
     "metadata": {},
     "output_type": "display_data"
    }
   ],
   "source": [
    "index = 500\n",
    "point_cloud = train_points_r[index]\n",
    "img = rasterize(point_cloud, 64, 64, planes)\n",
    "plt.figure(figsize=(10, 10))\n",
    "for i in range(len(planes)):\n",
    "    plt.subplot(2, 3, i+1)\n",
    "    plt.imshow(img[i], cmap=\"gray\")"
   ]
  },
  {
   "cell_type": "markdown",
   "metadata": {},
   "source": [
    "<br><br><br><br>\n",
    "<br><br><br><br><hr>"
   ]
  }
 ],
 "metadata": {
  "kernelspec": {
   "display_name": "Python 3",
   "language": "python",
   "name": "python3"
  },
  "language_info": {
   "codemirror_mode": {
    "name": "ipython",
    "version": 3
   },
   "file_extension": ".py",
   "mimetype": "text/x-python",
   "name": "python",
   "nbconvert_exporter": "python",
   "pygments_lexer": "ipython3",
   "version": "3.6.6"
  }
 },
 "nbformat": 4,
 "nbformat_minor": 2
}
